{
  "nbformat": 4,
  "nbformat_minor": 0,
  "metadata": {
    "colab": {
      "provenance": [],
      "authorship_tag": "ABX9TyNW0+lg69M0Ogns3jLqDswD",
      "include_colab_link": true
    },
    "kernelspec": {
      "name": "python3",
      "display_name": "Python 3"
    },
    "language_info": {
      "name": "python"
    }
  },
  "cells": [
    {
      "cell_type": "markdown",
      "metadata": {
        "id": "view-in-github",
        "colab_type": "text"
      },
      "source": [
        "<a href=\"https://colab.research.google.com/github/FabricioVsilva/alurabooks/blob/main/Untitled37.ipynb\" target=\"_parent\"><img src=\"https://colab.research.google.com/assets/colab-badge.svg\" alt=\"Open In Colab\"/></a>"
      ]
    },
    {
      "cell_type": "markdown",
      "source": [
        "1. Faça X = 0.0 e Y = 18. Verifique o tipo de dado que o Python atribuiu a cada um. Faça Z = X + Y e verifique o resultado calculado e armazenado em Z. Verifique com qual tipo de dado foi criado o objeto Z.\n"
      ],
      "metadata": {
        "id": "h95aqdDvGCVQ"
      }
    },
    {
      "cell_type": "code",
      "source": [
        "x = 0.0\n",
        "y = 18\n",
        "print(type(x))\n",
        "print(type(y))\n",
        "z = x + y\n",
        "print(z)\n",
        "print(type(z))"
      ],
      "metadata": {
        "colab": {
          "base_uri": "https://localhost:8080/"
        },
        "id": "5MYKD3yEGDJD",
        "outputId": "31bbb4ed-f17a-429a-83b2-4fc851b26d1b"
      },
      "execution_count": 33,
      "outputs": [
        {
          "output_type": "stream",
          "name": "stdout",
          "text": [
            "<class 'float'>\n",
            "<class 'int'>\n",
            "18.0\n",
            "<class 'float'>\n"
          ]
        }
      ]
    },
    {
      "cell_type": "markdown",
      "source": [
        "2. Atribua um valor qualquer a um objeto a (minúsculo). Utilize o comando type ou o comando print com o objeto A (maiúsculo). Relate o que aconteceu."
      ],
      "metadata": {
        "id": "QVEim4clGZyz"
      }
    },
    {
      "cell_type": "code",
      "source": [
        "a = 'Olá, mundo!'\n",
        "print(type(A)) #Deu um erro!"
      ],
      "metadata": {
        "colab": {
          "base_uri": "https://localhost:8080/",
          "height": 196
        },
        "id": "f-I6lpvIGaa8",
        "outputId": "4ef8ff89-8ce9-4053-dadb-ddf361ff9bfa"
      },
      "execution_count": 34,
      "outputs": [
        {
          "output_type": "error",
          "ename": "NameError",
          "evalue": "ignored",
          "traceback": [
            "\u001b[0;31m---------------------------------------------------------------------------\u001b[0m",
            "\u001b[0;31mNameError\u001b[0m                                 Traceback (most recent call last)",
            "\u001b[0;32m<ipython-input-34-a2b5a775aaf3>\u001b[0m in \u001b[0;36m<cell line: 2>\u001b[0;34m()\u001b[0m\n\u001b[1;32m      1\u001b[0m \u001b[0ma\u001b[0m \u001b[0;34m=\u001b[0m \u001b[0;34m'Olá, mundo!'\u001b[0m\u001b[0;34m\u001b[0m\u001b[0;34m\u001b[0m\u001b[0m\n\u001b[0;32m----> 2\u001b[0;31m \u001b[0mprint\u001b[0m\u001b[0;34m(\u001b[0m\u001b[0mtype\u001b[0m\u001b[0;34m(\u001b[0m\u001b[0mA\u001b[0m\u001b[0;34m)\u001b[0m\u001b[0;34m)\u001b[0m\u001b[0;34m\u001b[0m\u001b[0;34m\u001b[0m\u001b[0m\n\u001b[0m",
            "\u001b[0;31mNameError\u001b[0m: name 'A' is not defined"
          ]
        }
      ]
    },
    {
      "cell_type": "markdown",
      "source": [
        "3. No IDLE, faça A = “Questão 3”, B = 25 e C = 3.9. Utilize o comando type para verificar qual é o tipo de dado dos objetos A, B e C"
      ],
      "metadata": {
        "id": "1YDkYToAGp_w"
      }
    },
    {
      "cell_type": "code",
      "source": [
        "a = 'Questão 3'\n",
        "b = 25\n",
        "c = 3.9\n",
        "print(type(a))\n",
        "print(type(b))\n",
        "print(type(c))\n"
      ],
      "metadata": {
        "colab": {
          "base_uri": "https://localhost:8080/"
        },
        "id": "M9veRzybGqxS",
        "outputId": "2265d447-66fa-4218-ffbe-42758a2cbf50"
      },
      "execution_count": 35,
      "outputs": [
        {
          "output_type": "stream",
          "name": "stdout",
          "text": [
            "<class 'str'>\n",
            "<class 'int'>\n",
            "<class 'float'>\n"
          ]
        }
      ]
    },
    {
      "cell_type": "markdown",
      "source": [
        "4. Reproduza em um programa todos os casos de operações aritméticas do Quadro 2.1, para A = 14 e B = 5, e compare os valores obtidos por você com os valores esperados constantes do quadro.\n"
      ],
      "metadata": {
        "id": "3N_SBTLEHBWz"
      }
    },
    {
      "cell_type": "code",
      "source": [
        "l = ['sub', 'div', 'mul']\n",
        "print(l)\n",
        "a = 14\n",
        "b = 5\n",
        "qual = input('Qual conta fazer: ')\n",
        "if qual == 'sub':\n",
        "   r = a + b\n",
        "   print(r)\n",
        "elif qual == 'div':\n",
        "   r = a / b\n",
        "   print(r)\n",
        "elif qual == 'mul':\n",
        "   r = a * b\n",
        "   print(r)\n",
        "else:\n",
        "  print('Erro!')\n",
        "\n",
        "\n"
      ],
      "metadata": {
        "colab": {
          "base_uri": "https://localhost:8080/"
        },
        "id": "3A8IWYJLHCPq",
        "outputId": "22fb2de4-3e1f-4b68-a855-80c94ca3a609"
      },
      "execution_count": 41,
      "outputs": [
        {
          "output_type": "stream",
          "name": "stdout",
          "text": [
            "['sub', 'div', 'mul']\n",
            "Qual conta fazer: div\n",
            "2.8\n"
          ]
        }
      ]
    },
    {
      "cell_type": "markdown",
      "source": [
        "5. Escreva a sequência de comandos necessária para o cálculo da área de um triângulo de base 9 e altura 6."
      ],
      "metadata": {
        "id": "HLQUNTA0IgKF"
      }
    },
    {
      "cell_type": "code",
      "source": [
        "base = 9\n",
        "altura = 6\n",
        "resultado = base * altura / 2\n",
        "print(resultado)"
      ],
      "metadata": {
        "colab": {
          "base_uri": "https://localhost:8080/"
        },
        "id": "06vb5QfZIgzx",
        "outputId": "a6324ede-6099-4b7e-96e5-2e9b2a123bba"
      },
      "execution_count": 45,
      "outputs": [
        {
          "output_type": "stream",
          "name": "stdout",
          "text": [
            "27.0\n"
          ]
        }
      ]
    },
    {
      "cell_type": "markdown",
      "source": [
        "6. Refaça o exercício 5 alterando-o de modo que a base e a altura do triângulo sejam lidas do teclado. Considere-as números reais."
      ],
      "metadata": {
        "id": "yWTF9oUsQdYb"
      }
    },
    {
      "cell_type": "code",
      "source": [
        "print('Vamos calcular a área de um triângulo')\n",
        "base = int(input('Digite a base: '))\n",
        "altura = int(input('Digite a altura: '))\n",
        "resultado = base * altura / 2\n",
        "print(f'O resultado é {resultado}')"
      ],
      "metadata": {
        "colab": {
          "base_uri": "https://localhost:8080/"
        },
        "id": "Dspzl4sSQeDO",
        "outputId": "59efaaf6-a1d1-4478-e97c-fc9acb152c04"
      },
      "execution_count": 46,
      "outputs": [
        {
          "output_type": "stream",
          "name": "stdout",
          "text": [
            "Vamos calcular a área de um triângulo\n",
            "Digite a base: 10\n",
            "Digite a altura: 6\n",
            "O resultado é 30.0\n"
          ]
        }
      ]
    },
    {
      "cell_type": "markdown",
      "source": [
        "7. Escreva a sequência de comandos para calcular o salário bruto de um pro-fissional que ganha por hora, sabendo que ele ganha R$ 14,25/h e trabalhou 163 horas normais e 20 horas extras (pagam o dobro).\n"
      ],
      "metadata": {
        "id": "V5xT1jL9REeQ"
      }
    },
    {
      "cell_type": "code",
      "source": [
        "hora = 14.25\n",
        "trabalhou = 163\n",
        "extra = 20\n",
        "resultado = hora * trabalhou + hora * 40\n",
        "resultado"
      ],
      "metadata": {
        "colab": {
          "base_uri": "https://localhost:8080/"
        },
        "id": "T_vHgX72RHhz",
        "outputId": "41c3f1fc-4e51-4bc4-cd50-b2367cf96274"
      },
      "execution_count": 49,
      "outputs": [
        {
          "output_type": "execute_result",
          "data": {
            "text/plain": [
              "2892.75"
            ]
          },
          "metadata": {},
          "execution_count": 49
        }
      ]
    },
    {
      "cell_type": "markdown",
      "source": [
        "8. Escreva em Python as seguintes expressões aritméticas para as fórmulas a seguir e teste as quatro primeiras para os valores A = 4, B = 5, C = 1"
      ],
      "metadata": {
        "id": "lcQxzM5tVLYF"
      }
    },
    {
      "cell_type": "code",
      "source": [
        "import math\n",
        "a = 4\n",
        "b = 5\n",
        "c = 1\n",
        "r = (a + b) / 2\n",
        "print(r)\n",
        "\n"
      ],
      "metadata": {
        "colab": {
          "base_uri": "https://localhost:8080/"
        },
        "id": "aTWtWVp-VZ8T",
        "outputId": "a9251d45-6d79-48e2-df26-2d2ca8de19ab"
      },
      "execution_count": 13,
      "outputs": [
        {
          "output_type": "stream",
          "name": "stdout",
          "text": [
            "4.5\n"
          ]
        }
      ]
    },
    {
      "cell_type": "markdown",
      "source": [
        " Um vendedor ambulante vendeu os produtos indicados na tabela a seguir.\n",
        "Todos os dados devem ser lidos do teclado, sendo que o nome do produto é string, a quantidade vendida é um número inteiro e o valor unitário é um número real.\n"
      ],
      "metadata": {
        "id": "M_H8pImAYEGa"
      }
    },
    {
      "cell_type": "code",
      "source": [
        "brinquedos = ['Boneco malandrinho', 'Spinner pequeno', 'Cubo mágico']\n",
        "print(brinquedos)\n",
        "qualBrinquedo = input('Qual brinquedo: ')\n",
        "if qualBrinquedo == 'Boneco malandrinho':\n",
        "   valor = float(input('Qual o valor do boneco malandrinho: '))\n",
        "   quantidade = int(input('Qual a quantidade vendida: '))\n",
        "   lucro = valor * quantidade\n",
        "   print(f'Você obteve um lucro de R${lucro:4.2f}')\n",
        "elif qualBrinquedo == 'Spinner pequeno':\n",
        "   valor = float(input('Qual o valor do spinner: '))\n",
        "   quantidade = int(input('Qual a quantidade vendida: '))\n",
        "   lucro = valor * quantidade\n",
        "   print(f'Você obteve um lucro de R${lucro:4.2f}')\n",
        "elif qualBrinquedo == 'Cubo mágico':\n",
        "   valor = float(input('Qual o valor do cubo mágico: '))\n",
        "   quantidade = int(input('Qual a quantidade vendida: '))\n",
        "   lucro = valor * quantidade\n",
        "   print(f'Você obteve um lucro de R${lucro:4.2f}')\n",
        "else:\n",
        "   print('Erro! Brinquedo não encontrado!')\n",
        ""
      ],
      "metadata": {
        "colab": {
          "base_uri": "https://localhost:8080/"
        },
        "id": "ggy9ddWrYIhC",
        "outputId": "0ee6f970-54ae-4895-c1d5-d1207a27965a"
      },
      "execution_count": 45,
      "outputs": [
        {
          "output_type": "stream",
          "name": "stdout",
          "text": [
            "['Boneco malandrinho', 'Spinner pequeno', 'Cubo mágico']\n",
            "Qual brinquedo: Spinner pequeno\n",
            "Qual o valor do spinner: 5\n",
            "Qual a quantidade vendida: 5\n",
            "Você obteve um lucro de R$25.00\n"
          ]
        }
      ]
    }
  ]
}